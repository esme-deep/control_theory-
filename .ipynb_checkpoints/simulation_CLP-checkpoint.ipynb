{
 "cells": [
  {
   "cell_type": "code",
   "execution_count": 168,
   "metadata": {},
   "outputs": [],
   "source": [
    "import numpy as np\n",
    "import matplotlib.pyplot as plt\n",
    "from scipy.optimize import minimize\n",
    "from matplotlib import colors as mcolors\n",
    "\n",
    "import package_DBR\n",
    "import student_package\n",
    "\n",
    "from package_DBR import myRound, SelectPath_RT, Delay_RT, FO_RT, FOPDT, SOPDT, FOPDT_cost, SOPDT_cost, Process, Bode\n",
    "from importlib import reload\n",
    "student_package = reload(student_package)\n",
    "from student_package import PID_RT, LeadLag_RT,IMCTuning,Scenareo_Box,Show_scenareo"
   ]
  },
  {
   "cell_type": "markdown",
   "metadata": {},
   "source": [
    " \n",
    " # Process parameters \n"
   ]
  },
  {
   "cell_type": "code",
   "execution_count": 154,
   "metadata": {},
   "outputs": [],
   "source": [
    "#SOPDT  for PV\n",
    "Kp = 0.3870268878656955\n",
    "T1p = 134.48964045587033\n",
    "T2p = 0.18834872361511124\n",
    "thetap = 4.428370012941102\n",
    "\n",
    "#SOPDT  for DV change it later!!\n",
    "Kd = 0.3870268878656955\n",
    "T1d = 134.48964045587033\n",
    "T2d = 0.18834872361511124\n",
    "thetad = 4.428370012941102\n"
   ]
  },
  {
   "cell_type": "code",
   "execution_count": null,
   "metadata": {},
   "outputs": [],
   "source": []
  },
  {
   "cell_type": "code",
   "execution_count": 155,
   "metadata": {},
   "outputs": [
    {
     "name": "stdout",
     "output_type": "stream",
     "text": [
      "5.976566556991808 134.67798917948545 0.1880853157494045\n"
     ]
    }
   ],
   "source": [
    "gamma = 0.4 \n",
    "Kc,Ti,Td = IMCTuning(Kp,T1p,T2p,thetap,gamma,'SOPDT')\n",
    "print(Kc,Ti,Td)"
   ]
  },
  {
   "cell_type": "code",
   "execution_count": 156,
   "metadata": {},
   "outputs": [],
   "source": [
    "TSim = 2000\n",
    "Ts = 1\n",
    "N = int(TSim/Ts) + 1\n"
   ]
  },
  {
   "cell_type": "markdown",
   "metadata": {},
   "source": [
    "# CLOSED LOOP with PID and FF\n"
   ]
  },
  {
   "cell_type": "code",
   "execution_count": 157,
   "metadata": {},
   "outputs": [],
   "source": [
    "#working point \n",
    "MV0= 50\n",
    "DV0 = 50\n",
    "PV0 = 75"
   ]
  },
  {
   "cell_type": "markdown",
   "metadata": {},
   "source": [
    "## SCENAREOS"
   ]
  },
  {
   "cell_type": "code",
   "execution_count": 158,
   "metadata": {},
   "outputs": [
    {
     "name": "stdout",
     "output_type": "stream",
     "text": [
      "Help on function Scenareo_Box in module student_package:\n",
      "\n",
      "Scenareo_Box()\n",
      "    This function will help us make the choice of the scenareo please unckeck a simulation before checking another\n",
      "\n"
     ]
    }
   ],
   "source": [
    "help(Scenareo_Box)"
   ]
  },
  {
   "cell_type": "code",
   "execution_count": 169,
   "metadata": {},
   "outputs": [
    {
     "data": {
      "application/vnd.jupyter.widget-view+json": {
       "model_id": "ecfd536b02b640049dcec548ec2b80c3",
       "version_major": 2,
       "version_minor": 0
      },
      "text/plain": [
       "Checkbox(value=False, description='OPLnoFF')"
      ]
     },
     "metadata": {},
     "output_type": "display_data"
    },
    {
     "data": {
      "application/vnd.jupyter.widget-view+json": {
       "model_id": "82771da9d47b4169a66af59c6936ae28",
       "version_major": 2,
       "version_minor": 0
      },
      "text/plain": [
       "Checkbox(value=False, description='OPLFF')"
      ]
     },
     "metadata": {},
     "output_type": "display_data"
    },
    {
     "data": {
      "application/vnd.jupyter.widget-view+json": {
       "model_id": "c8a6d1c084484d3e8a0017c1986dcff9",
       "version_major": 2,
       "version_minor": 0
      },
      "text/plain": [
       "Checkbox(value=False, description='CPLFF')"
      ]
     },
     "metadata": {},
     "output_type": "display_data"
    },
    {
     "data": {
      "application/vnd.jupyter.widget-view+json": {
       "model_id": "03beff81a43b45b9883fc78001e429b2",
       "version_major": 2,
       "version_minor": 0
      },
      "text/plain": [
       "Checkbox(value=False, description='CPLnoFF')"
      ]
     },
     "metadata": {},
     "output_type": "display_data"
    }
   ],
   "source": [
    "Scenareo_Box()"
   ]
  },
  {
   "cell_type": "code",
   "execution_count": 170,
   "metadata": {},
   "outputs": [
    {
     "name": "stdout",
     "output_type": "stream",
     "text": [
      "check a scenareo please\n"
     ]
    }
   ],
   "source": [
    "global setting\n",
    "Show_scenareo(setting)"
   ]
  },
  {
   "cell_type": "code",
   "execution_count": 171,
   "metadata": {},
   "outputs": [
    {
     "ename": "NameError",
     "evalue": "name 'setting' is not defined",
     "output_type": "error",
     "traceback": [
      "\u001b[1;31m---------------------------------------------------------------------------\u001b[0m",
      "\u001b[1;31mNameError\u001b[0m                                 Traceback (most recent call last)",
      "\u001b[1;32m<ipython-input-171-cca459f60f4c>\u001b[0m in \u001b[0;36m<module>\u001b[1;34m\u001b[0m\n\u001b[1;32m----> 1\u001b[1;33m \u001b[0mprint\u001b[0m\u001b[1;33m(\u001b[0m\u001b[0msetting\u001b[0m\u001b[1;33m)\u001b[0m\u001b[1;33m\u001b[0m\u001b[1;33m\u001b[0m\u001b[0m\n\u001b[0m\u001b[0;32m      2\u001b[0m \u001b[1;33m\u001b[0m\u001b[0m\n\u001b[0;32m      3\u001b[0m \u001b[1;31m#NO FF AND CLOSED LOOOP\u001b[0m\u001b[1;33m\u001b[0m\u001b[1;33m\u001b[0m\u001b[1;33m\u001b[0m\u001b[0m\n\u001b[0;32m      4\u001b[0m \u001b[0mManPath\u001b[0m \u001b[1;33m=\u001b[0m \u001b[1;33m{\u001b[0m\u001b[1;36m0\u001b[0m\u001b[1;33m:\u001b[0m \u001b[1;32mFalse\u001b[0m\u001b[1;33m,\u001b[0m \u001b[1;36m1000\u001b[0m\u001b[1;33m:\u001b[0m\u001b[1;32mFalse\u001b[0m \u001b[1;33m,\u001b[0m \u001b[0mTSim\u001b[0m\u001b[1;33m:\u001b[0m \u001b[1;32mFalse\u001b[0m\u001b[1;33m}\u001b[0m\u001b[1;33m\u001b[0m\u001b[1;33m\u001b[0m\u001b[0m\n\u001b[0;32m      5\u001b[0m \u001b[0mMVManPath\u001b[0m \u001b[1;33m=\u001b[0m\u001b[1;33m{\u001b[0m\u001b[1;36m0\u001b[0m\u001b[1;33m:\u001b[0m\u001b[0mMV0\u001b[0m\u001b[1;33m,\u001b[0m\u001b[0mTSim\u001b[0m\u001b[1;33m:\u001b[0m\u001b[0mMV0\u001b[0m\u001b[1;33m}\u001b[0m\u001b[1;33m\u001b[0m\u001b[1;33m\u001b[0m\u001b[0m\n",
      "\u001b[1;31mNameError\u001b[0m: name 'setting' is not defined"
     ]
    }
   ],
   "source": [
    "print(setting)\n",
    "\n",
    "#NO FF AND CLOSED LOOOP\n",
    "ManPath = {0: False, 1000:False , TSim: False}\n",
    "MVManPath ={0:MV0,TSim:MV0}\n",
    "SPPath = {0: PV0, 800:PV0-10 , TSim: PV0-10}\n",
    "DVPath = {0: 50, 1600:DV0+10 , TSim: DV0+10}\n",
    "ActivateFF = False\n",
    "ManFF = False\n",
    "\n",
    "\n"
   ]
  },
  {
   "cell_type": "code",
   "execution_count": null,
   "metadata": {},
   "outputs": [],
   "source": [
    "t=[]\n",
    "SP=[]\n",
    "PV=[]\n",
    "Man=[]\n",
    "MVMan=[]\n",
    "MVFF=[]\n",
    "MV=[]\n",
    "DV=[]\n",
    "MVP=[]\n",
    "MVI=[]\n",
    "MVD=[]\n",
    "E=[]\n",
    "\n",
    "alpha = 0.5\n",
    "MVMin = 0\n",
    "MVMax = 100\n",
    "\n",
    "MVFFDelay=[]\n",
    "MVFFLL1=[]\n",
    "\n",
    "MVDelayp=[]\n",
    "PV1p=[]\n",
    "PV2p=[]\n",
    "\n",
    "MVDelayd=[]\n",
    "PV1d=[]\n",
    "PV2d=[]"
   ]
  },
  {
   "cell_type": "code",
   "execution_count": null,
   "metadata": {},
   "outputs": [],
   "source": [
    "for i in range(0,N):\n",
    "    t.append(i*Ts)\n",
    "    SelectPath_RT(SPPath,t,SP)\n",
    "    SelectPath_RT(DVPath,t,DV)\n",
    "    Delay_RT(DV-DV0*np.ones_like(DV),np.max([thetad-thetap,0]),Ts,MVFFDelay)\n",
    "    LeadLag_RT(MVFFDelay,-Kd/Kp,T1p,T1d,Ts,MVFFLL1)\n",
    "    if ActivateFF :\n",
    "        LeadLag_RT(MVFFLL1,1,T2p,T2d,Ts,MVFF)\n",
    "    else :\n",
    "        LeadLag_RT(MVFFLL1,0,T2p,T2d,Ts,MVFF)\n",
    "    \n",
    "    SelectPath_RT(ManPath,t,Man)\n",
    "    SelectPath_RT(MVManPath,t,MVMan)\n",
    "    \n",
    "    PID_RT(SP,PV,Man,MVMan,MVFF,2,Ti,Td,alpha,Ts,MVMin,MVMax,MV,MVP,MVI,MVD,E,ManFF,PV0,'EBD_EBD')\n",
    "    \n",
    "    #Process\n",
    "    Delay_RT(MV,thetap,Ts,MVDelayp,MV0)\n",
    "    FO_RT(MVDelayp,Kp,T1p,Ts,PV1p,0)\n",
    "    FO_RT(PV1p,1,T2p,Ts,PV2p,0)\n",
    "    \n",
    "    #Disturbance\n",
    "    Delay_RT(DV-DV0*np.ones_like(DV),thetad,Ts,MVDelayd,0)\n",
    "    FO_RT(MVDelayd,Kd,T1d,Ts,PV1d,0)\n",
    "    FO_RT(PV1d,Kp,T2d,Ts,PV2d,0)\n",
    "    \n",
    "    PV.append(PV2p[-1]+PV2d[-1] +PV0-Kp*MV0)\n",
    "    \n",
    "    "
   ]
  },
  {
   "cell_type": "code",
   "execution_count": 95,
   "metadata": {},
   "outputs": [
    {
     "data": {
      "text/plain": [
       "[<matplotlib.lines.Line2D at 0x1f8c263c608>]"
      ]
     },
     "execution_count": 95,
     "metadata": {},
     "output_type": "execute_result"
    },
    {
     "data": {
      "image/png": "[encoded data removed]",
      "text/plain": [
       "<Figure size 1440x792 with 1 Axes>"
      ]
     },
     "metadata": {
      "needs_background": "light"
     },
     "output_type": "display_data"
    }
   ],
   "source": [
    "plt.figure(figsize = (20,11))\n",
    "plt.subplot(2,1,1)\n",
    "\n",
    "\n",
    "plt.step(t,SP,'b-',label='SP',where='post')\n",
    "plt.step(t,MV,'y-',label='MV',where='post')\n",
    "plt.step(t,PV,'r-',label='PV',where='post')"
   ]
  },
  {
   "cell_type": "code",
   "execution_count": 2,
   "metadata": {},
   "outputs": [
    {
     "data": {
      "application/vnd.jupyter.widget-view+json": {
       "model_id": "e04b08ffaed24111a56bf58fd3d6f655",
       "version_major": 2,
       "version_minor": 0
      },
      "text/plain": [
       "Button(description='My Button', style=ButtonStyle())"
      ]
     },
     "metadata": {},
     "output_type": "display_data"
    }
   ],
   "source": [
    "\n",
    "# import module\n",
    "import ipywidgets as widgets\n",
    "  \n",
    "# creating button\n",
    "widgets.Button(description = 'My Button')"
   ]
  },
  {
   "cell_type": "code",
   "execution_count": 81,
   "metadata": {},
   "outputs": [
    {
     "data": {
      "application/vnd.jupyter.widget-view+json": {
       "model_id": "d64af9093af441e989c3cdd8c4cf9374",
       "version_major": 2,
       "version_minor": 0
      },
      "text/plain": [
       "Checkbox(value=False, description='OPLnoFF')"
      ]
     },
     "metadata": {},
     "output_type": "display_data"
    },
    {
     "data": {
      "application/vnd.jupyter.widget-view+json": {
       "model_id": "16fee8d148034797923b7563fecb6197",
       "version_major": 2,
       "version_minor": 0
      },
      "text/plain": [
       "Checkbox(value=False, description='OPLFF')"
      ]
     },
     "metadata": {},
     "output_type": "display_data"
    },
    {
     "data": {
      "application/vnd.jupyter.widget-view+json": {
       "model_id": "418d4c3151c043fba309d850bd085eb1",
       "version_major": 2,
       "version_minor": 0
      },
      "text/plain": [
       "Checkbox(value=False, description='CPLFF')"
      ]
     },
     "metadata": {},
     "output_type": "display_data"
    },
    {
     "data": {
      "application/vnd.jupyter.widget-view+json": {
       "model_id": "4f67c11f22774dfc8e650606292bfe7b",
       "version_major": 2,
       "version_minor": 0
      },
      "text/plain": [
       "Checkbox(value=False, description='CPLnoFF')"
      ]
     },
     "metadata": {},
     "output_type": "display_data"
    },
    {
     "name": "stdout",
     "output_type": "stream",
     "text": [
      "OPLnoFF\n",
      "OPLnoFF\n",
      "OPLnoFF\n"
     ]
    }
   ],
   "source": [
    "\n",
    "\n",
    "\n",
    "\n"
   ]
  },
  {
   "cell_type": "code",
   "execution_count": 74,
   "metadata": {},
   "outputs": [
    {
     "name": "stdout",
     "output_type": "stream",
     "text": [
      "True\n"
     ]
    }
   ],
   "source": [
    "print(box4.value)"
   ]
  },
  {
   "cell_type": "code",
   "execution_count": null,
   "metadata": {},
   "outputs": [],
   "source": []
  }
 ],
 "metadata": {
  "kernelspec": {
   "display_name": "Python 3",
   "language": "python",
   "name": "python3"
  },
  "language_info": {
   "codemirror_mode": {
    "name": "ipython",
    "version": 3
   },
   "file_extension": ".py",
   "mimetype": "text/x-python",
   "name": "python",
   "nbconvert_exporter": "python",
   "pygments_lexer": "ipython3",
   "version": "3.7.6"
  }
 },
 "nbformat": 4,
 "nbformat_minor": 4
}
