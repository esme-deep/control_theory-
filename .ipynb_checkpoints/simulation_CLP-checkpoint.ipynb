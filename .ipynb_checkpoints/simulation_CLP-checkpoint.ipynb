{
 "cells": [
  {
   "cell_type": "code",
   "execution_count": 318,
   "metadata": {},
   "outputs": [],
   "source": [
    "import numpy as np\n",
    "import matplotlib.pyplot as plt\n",
    "from scipy.optimize import minimize\n",
    "from matplotlib import colors as mcolors\n",
    "\n",
    "import package_DBR\n",
    "import student_package\n",
    "\n",
    "from package_DBR import myRound, SelectPath_RT, Delay_RT, FO_RT, FOPDT, SOPDT, FOPDT_cost, SOPDT_cost, Process, Bode\n",
    "from importlib import reload\n",
    "student_package = reload(student_package)\n",
    "from student_package import PID_RT, LeadLag_RT,IMCTuning,Scenario_Box,Show_scenario"
   ]
  },
  {
   "cell_type": "markdown",
   "metadata": {},
   "source": [
    " \n",
    " # Process parameters \n"
   ]
  },
  {
   "cell_type": "code",
   "execution_count": 319,
   "metadata": {},
   "outputs": [],
   "source": [
    "#SOPDT  for PV\n",
    "Kp = 0.3870268878656955\n",
    "T1p = 134.48964045587033\n",
    "T2p = 0.18834872361511124\n",
    "thetap = 4.428370012941102\n",
    "\n",
    "#SOPDT  for DV change it later!!\n",
    "Kd = 0.3423905344337249\n",
    "T1d = 234.38785189727164\n",
    "T2d = 0\n",
    "thetad = 0\n"
   ]
  },
  {
   "cell_type": "code",
   "execution_count": null,
   "metadata": {},
   "outputs": [],
   "source": []
  },
  {
   "cell_type": "code",
   "execution_count": 320,
   "metadata": {},
   "outputs": [
    {
     "name": "stdout",
     "output_type": "stream",
     "text": [
      "5.976566556991808 134.67798917948545 0.1880853157494045\n"
     ]
    }
   ],
   "source": [
    "gamma = 0.4 \n",
    "Kc,Ti,Td = IMCTuning(Kp,T1p,T2p,thetap,gamma,'SOPDT')\n",
    "print(Kc,Ti,Td)"
   ]
  },
  {
   "cell_type": "code",
   "execution_count": 321,
   "metadata": {},
   "outputs": [],
   "source": [
    "TSim = 2000\n",
    "Ts = 1\n",
    "N = int(TSim/Ts) + 1\n"
   ]
  },
  {
   "cell_type": "markdown",
   "metadata": {},
   "source": [
    "# CLOSED LOOP with PID and FF\n"
   ]
  },
  {
   "cell_type": "code",
   "execution_count": 322,
   "metadata": {},
   "outputs": [],
   "source": [
    "#working point \n",
    "MV0= 50\n",
    "DV0 = 50\n",
    "PV0 = 75\n",
    "\n",
    "MVPath = {0: 1, 1230: 0, TSim: 1}"
   ]
  },
  {
   "cell_type": "markdown",
   "metadata": {},
   "source": [
    "## SCENAREOS"
   ]
  },
  {
   "cell_type": "code",
   "execution_count": 323,
   "metadata": {},
   "outputs": [
    {
     "name": "stdout",
     "output_type": "stream",
     "text": [
      "Help on function Scenario_Box in module student_package:\n",
      "\n",
      "Scenario_Box()\n",
      "    This function will help us make the choice of the scenareo please uncheck a simulation before checking another\n",
      "\n"
     ]
    }
   ],
   "source": [
    "help(Scenario_Box)"
   ]
  },
  {
   "cell_type": "code",
   "execution_count": 324,
   "metadata": {},
   "outputs": [
    {
     "data": {
      "application/vnd.jupyter.widget-view+json": {
       "model_id": "94e6a026eae34f95b31c1173f517ae90",
       "version_major": 2,
       "version_minor": 0
      },
      "text/plain": [
       "Checkbox(value=False, description='OPLnoFF')"
      ]
     },
     "metadata": {},
     "output_type": "display_data"
    },
    {
     "data": {
      "application/vnd.jupyter.widget-view+json": {
       "model_id": "bf79047f43f14fb284baa954dfc46895",
       "version_major": 2,
       "version_minor": 0
      },
      "text/plain": [
       "Checkbox(value=False, description='OPLFF')"
      ]
     },
     "metadata": {},
     "output_type": "display_data"
    },
    {
     "data": {
      "application/vnd.jupyter.widget-view+json": {
       "model_id": "7d5c8e40b4e649db9d6cbe64683e463c",
       "version_major": 2,
       "version_minor": 0
      },
      "text/plain": [
       "Checkbox(value=False, description='CLPFF')"
      ]
     },
     "metadata": {},
     "output_type": "display_data"
    },
    {
     "data": {
      "application/vnd.jupyter.widget-view+json": {
       "model_id": "85b694582e9b4e86a74bd5115ff19945",
       "version_major": 2,
       "version_minor": 0
      },
      "text/plain": [
       "Checkbox(value=False, description='CLPnoFF')"
      ]
     },
     "metadata": {},
     "output_type": "display_data"
    }
   ],
   "source": [
    "Scenario_Box()"
   ]
  },
  {
   "cell_type": "code",
   "execution_count": 359,
   "metadata": {},
   "outputs": [
    {
     "name": "stdout",
     "output_type": "stream",
     "text": [
      "Help on function Show_scenario in module student_package:\n",
      "\n",
      "Show_scenario()\n",
      "    This function is MANDATORY to apply the scenario choice.. it also make us sure of the choice made\n",
      "\n"
     ]
    }
   ],
   "source": [
    "help(Show_scenario)"
   ]
  },
  {
   "cell_type": "code",
   "execution_count": 372,
   "metadata": {},
   "outputs": [
    {
     "name": "stdout",
     "output_type": "stream",
     "text": [
      "You have chosen an closed loop with  feedforward\n"
     ]
    }
   ],
   "source": [
    "scenario = Show_scenario()"
   ]
  },
  {
   "cell_type": "code",
   "execution_count": 373,
   "metadata": {},
   "outputs": [
    {
     "name": "stdout",
     "output_type": "stream",
     "text": [
      "CLPFF\n",
      "3\n"
     ]
    }
   ],
   "source": [
    "print(scenario)\n",
    "\n",
    "\n",
    "\n",
    "if scenario==\"OPLnoFF\":\n",
    "    #  OLP + no FF\n",
    "    ManPath = {0: True,TSim: True} \n",
    "    MVManPath = {0: MV0, TSim: MV0} \n",
    "    SPPath = {0: PV0, 1000: PV0-10, TSim: PV0-10} \n",
    "    DVPath = {0: DV0-20, 1500: DV0, TSim: DV0}\n",
    "    ManFF = False\n",
    "    ActivateFF= False\n",
    "    print(1)\n",
    "    \n",
    "   \n",
    "    \n",
    "elif scenario =='OPLFF':\n",
    "    \n",
    "    ManPath = {0: True,TSim: True}\n",
    "    MVManPath = {0: MV0, TSim: MV0} \n",
    "    SPPath = {0: PV0, 1200: PV0-10, TSim: PV0-10} \n",
    "    DVPath = {0: DV0-20, 1700: DV0, TSim: DV0}\n",
    "    ManFF = True\n",
    "    ActivateFF= True\n",
    "    print(2)\n",
    "\n",
    "elif scenario=='CLPFF':\n",
    "    # FF, CLP\n",
    "    ManPath = {0: False, 100: False, TSim: False}\n",
    "    MVManPath = {0: 100, TSim: MV0}\n",
    "    SPPath = {0: PV0, 1000: PV0-10, TSim: PV0-10} \n",
    "    DVPath = {0: DV0-20, 1500: DV0, TSim: DV0}\n",
    "    ManFF = True\n",
    "    ActivateFF= True\n",
    "    print(3)\n",
    "   \n",
    "    \n",
    "else:\n",
    "    # no FF, CLP\n",
    "    ManPath = {0: False, 1000 :False, TSim: False}\n",
    "    MVManPath = {0: MV0, TSim: MV0} \n",
    "    SPPath = {0: PV0, 1000: PV0-10, TSim: PV0-10} \n",
    "    DVPath = {0: DV0-20, 1500: DV0, TSim: DV0}\n",
    "    ManFF = False\n",
    "    ActivateFF = False\n",
    "    print(4)\n",
    "  \n",
    "\n",
    "\n"
   ]
  },
  {
   "cell_type": "code",
   "execution_count": 374,
   "metadata": {},
   "outputs": [],
   "source": [
    "t=[]\n",
    "SP=[]\n",
    "PV=[]\n",
    "Man=[]\n",
    "MVMan=[]\n",
    "MVFF=[]\n",
    "MV=[]\n",
    "DV=[]\n",
    "MVP=[]\n",
    "MVI=[]\n",
    "MVD=[]\n",
    "E=[]\n",
    "\n",
    "alpha = 0.5\n",
    "MVMin = 0\n",
    "MVMax = 100\n",
    "\n",
    "MVFFDelay=[]\n",
    "MVFFLL1=[]\n",
    "\n",
    "MVDelayp=[]\n",
    "PV1p=[]\n",
    "PV2p=[]\n",
    "\n",
    "MVDelayd=[]\n",
    "PV1d=[]\n",
    "PV2d=[]"
   ]
  },
  {
   "cell_type": "code",
   "execution_count": 375,
   "metadata": {},
   "outputs": [],
   "source": [
    "for i in range(0,N):\n",
    "    t.append(i*Ts)\n",
    "    SelectPath_RT(SPPath,t,SP)\n",
    "    SelectPath_RT(DVPath,t,DV)\n",
    "    Delay_RT(DV-DV0*np.ones_like(DV),np.max([thetad-thetap,0]),Ts,MVFFDelay)\n",
    "    LeadLag_RT(MVFFDelay,-Kd/Kp,T1p,T1d,Ts,MVFFLL1)\n",
    "    if ActivateFF :\n",
    "        LeadLag_RT(MVFFLL1,1,T2p,T2d,Ts,MVFF)\n",
    "    else :\n",
    "        LeadLag_RT(MVFFLL1,0,T2p,T2d,Ts,MVFF)\n",
    "    \n",
    "    SelectPath_RT(ManPath,t,Man)\n",
    "    SelectPath_RT(MVManPath,t,MVMan)\n",
    "    \n",
    "    PID_RT(SP,PV,Man,MVMan,MVFF,2,Ti,Td,alpha,Ts,MVMin,MVMax,MV,MVP,MVI,MVD,E,ManFF,PV0,'EBD_EBD')\n",
    "    \n",
    "    #Process\n",
    "    Delay_RT(MV,thetap,Ts,MVDelayp,MV0)\n",
    "    FO_RT(MVDelayp,Kp,T1p,Ts,PV1p,0)\n",
    "    FO_RT(PV1p,1,T2p,Ts,PV2p,0)\n",
    "    \n",
    "    #Disturbance\n",
    "    Delay_RT(DV-DV0*np.ones_like(DV),thetad,Ts,MVDelayd,0)\n",
    "    FO_RT(MVDelayd,Kd,T1d,Ts,PV1d,0)\n",
    "    FO_RT(PV1d,Kp,T2d,Ts,PV2d,0)\n",
    "    \n",
    "    PV.append(PV2p[-1]+PV2d[-1] +PV0-Kp*MV0)\n",
    "    \n",
    "    "
   ]
  },
  {
   "cell_type": "code",
   "execution_count": 376,
   "metadata": {},
   "outputs": [
    {
     "data": {
      "text/plain": [
       "[<matplotlib.lines.Line2D at 0x1e6b7daad88>]"
      ]
     },
     "execution_count": 376,
     "metadata": {},
     "output_type": "execute_result"
    },
    {
     "data": {
      "image/png": "[encoded data removed]",
      "text/plain": [
       "<Figure size 1440x792 with 1 Axes>"
      ]
     },
     "metadata": {
      "needs_background": "light"
     },
     "output_type": "display_data"
    }
   ],
   "source": [
    "plt.figure(figsize = (20,11))\n",
    "plt.subplot(2,1,1)\n",
    "\n",
    "\n",
    "plt.step(t,SP,'b-',label='SP',where='post')\n",
    "plt.step(t,MV,'y-',label='MV',where='post')\n",
    "plt.step(t,PV,'r-',label='PV',where='post')"
   ]
  },
  {
   "cell_type": "code",
   "execution_count": 377,
   "metadata": {},
   "outputs": [
    {
     "data": {
      "image/png": "[encoded data removed]",
      "text/plain": [
       "<Figure size 1584x1584 with 4 Axes>"
      ]
     },
     "metadata": {
      "needs_background": "light"
     },
     "output_type": "display_data"
    }
   ],
   "source": [
    "fig, (ax1,ax2,ax3,ax4) = plt.subplots(4,1)\n",
    "fig.set_figheight(22)\n",
    "fig.set_figwidth(22)\n",
    "\n",
    "l1, = ax1.step([0,t[-1]],[0,100],'k-',linewidth=2,label='Man',where='post')\n",
    "ax1.set_ylabel('Man [0 or 1]')\n",
    "ax1.set_title( scenario + \" responce\")\n",
    "ax1.legend(loc='best')\n",
    "\n",
    "l2, = ax2.step([0,t[-1]],[0,100],'b-',linewidth=2,label='MV',where='post')\n",
    "ax2.set_ylabel('MV [%]')\n",
    "ax2.legend(loc='best')\n",
    "\n",
    "l3, = ax3.step([0,t[-1]],[0,100],'k-',linewidth=2,label='SP',where='post')\n",
    "\n",
    "l4, = ax3.step([0,t[-1]],[0,100],'g-',linewidth=2,label='PV',where='post')\n",
    "ax3.set_ylabel('PV [°C]')\n",
    "ax3.legend(loc='best')\n",
    "\n",
    "l5, = ax4.step([0,t[-1]],[0,100],'r-',linewidth=2,label='DV',where='post')\n",
    "ax4.set_xlabel('Time [s]')\n",
    "ax4.set_ylabel('DV [%]')\n",
    "ax4.legend(loc='best')\n",
    "\n",
    "ManInt = [int(x) for x in Man]\n",
    "l1.set_data(t,ManInt)\n",
    "l2.set_data(t,MV)\n",
    "l3.set_data(t,SP)\n",
    "l4.set_data(t,PV)\n",
    "l5.set_data(t,DV)\n",
    "\n",
    "ax1.set_xlim(0,t[-1]+1)\n",
    "ax2.set_xlim(0,t[-1]+1)\n",
    "ax3.set_xlim(0,t[-1]+1)\n",
    "ax4.set_xlim(0,t[-1]+1)\n",
    "\n",
    "ax1.set_ylim(-0.1,1.1)\n",
    "ax2.set_ylim(myRound(np.min(MV),5)-5, myRound(np.max(MV),5)+5)\n",
    "ax3.set_ylim(myRound(np.min((np.min(PV),np.min(SP))),5)-5,myRound(np.max((np.max(PV),np.max(SP))),5)+5)\n",
    "ax4.set_ylim(myRound(np.min(DV),5)-5,myRound(np.max(DV),5)+5)\n",
    "fig.savefig(scenario)"
   ]
  },
  {
   "cell_type": "code",
   "execution_count": null,
   "metadata": {},
   "outputs": [],
   "source": [
    "\n",
    "\n",
    "\n",
    "\n"
   ]
  },
  {
   "cell_type": "code",
   "execution_count": null,
   "metadata": {},
   "outputs": [],
   "source": []
  },
  {
   "cell_type": "code",
   "execution_count": null,
   "metadata": {},
   "outputs": [],
   "source": []
  },
  {
   "cell_type": "code",
   "execution_count": null,
   "metadata": {},
   "outputs": [],
   "source": []
  }
 ],
 "metadata": {
  "kernelspec": {
   "display_name": "Python 3",
   "language": "python",
   "name": "python3"
  },
  "language_info": {
   "codemirror_mode": {
    "name": "ipython",
    "version": 3
   },
   "file_extension": ".py",
   "mimetype": "text/x-python",
   "name": "python",
   "nbconvert_exporter": "python",
   "pygments_lexer": "ipython3",
   "version": "3.7.6"
  }
 },
 "nbformat": 4,
 "nbformat_minor": 4
}
