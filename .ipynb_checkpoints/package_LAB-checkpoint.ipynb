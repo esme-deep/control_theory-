{
 "cells": [
  {
   "cell_type": "code",
   "execution_count": 11,
   "metadata": {},
   "outputs": [],
   "source": [
    "import pandas as pd\n",
    "import matplotlib.pyplot as plt\n",
    "from matplotlib import colors as mcolors\n",
    "import numpy as np\n",
    "from scipy.optimize import minimize\n",
    "\n",
    "import package_DBR\n",
    "from package_DBR import myRound, SelectPath_RT, Delay_RT, FO_RT, FOPDT, SOPDT, FOPDT_cost, SOPDT_cost, Process, Bode\n",
    "import package_LAB\n",
    "from package_LAB import LeadLag_RT, PID_RT\n",
    "\n",
    "from importlib import reload\n",
    "package_LAB = reload(package_LAB)"
   ]
  },
  {
   "cell_type": "markdown",
   "metadata": {},
   "source": [
    "LeadLag Implementation"
   ]
  },
  {
   "cell_type": "code",
   "execution_count": 12,
   "metadata": {},
   "outputs": [
    {
     "name": "stdout",
     "output_type": "stream",
     "text": [
      "Help on function LeadLag_RT in module package_LAB:\n",
      "\n",
      "LeadLag_RT(MV, Kp, Tlead, Tlag, Ts, PV, PVInit=0, method='EBD')\n",
      "    Help on function LeadLag_RT in module package_DBR Advanced:\n",
      "        LeadLag RT(MV, Kp, Tlead, Tlag, Ts, PV, PVInit=0, method=\" EBD\")\n",
      "        \n",
      "        The function “LeadLag RT” needs to be included in a ”for or while loop”.\n",
      "        :MV: input vector\n",
      "        :Kp: process gain\n",
      "        :Tlead: lead time constant [s]\n",
      "        :Tlag: lag time constant [s]\n",
      "        :Ts:sampling period [s]\n",
      "        :Pv: output vector\n",
      "        :PVInit: (optional: default value is 8)\n",
      "        :method: discretisation method (optional: default value is \"EBD')\n",
      "                EBD: Euler Backward difference\n",
      "                EFD: Euler Forward difference\n",
      "                TRAP: Trapezoidal method\n",
      "        The function appends a value to the output vector \"Pv\".\n",
      "        The appended value is obtained from a recurrent equation that depends on the discretisation method.\n",
      "\n"
     ]
    }
   ],
   "source": [
    "help(LeadLag_RT)"
   ]
  },
  {
   "cell_type": "code",
   "execution_count": 13,
   "metadata": {},
   "outputs": [
    {
     "data": {
      "text/plain": [
       "(0, 100)"
      ]
     },
     "execution_count": 13,
     "metadata": {},
     "output_type": "execute_result"
    },
    {
     "data": {
      "image/png": "[encoded data removed]",
      "text/plain": [
       "<Figure size 1080x648 with 2 Axes>"
      ]
     },
     "metadata": {
      "needs_background": "light"
     },
     "output_type": "display_data"
    }
   ],
   "source": [
    "TSim = 100\n",
    "Ts = 0.1\n",
    "N = int(TSim/Ts) + 1\n",
    "\n",
    "# Path for MV\n",
    "MVPath = {0: 0, 5: 1, 50: 0, TSim: 3}\n",
    "\n",
    "t = []\n",
    "MV = []\n",
    "PV_EBD = []\n",
    "PV_EFD = []\n",
    "\n",
    "# Parameters\n",
    "Kp = 1\n",
    "TLead = -1\n",
    "TLag = 3\n",
    "\n",
    "for i in range(0,N):\n",
    "    t.append(i*Ts)\n",
    "    SelectPath_RT(MVPath,t,MV)\n",
    "    LeadLag_RT(MV, Kp, TLead, TLag, Ts, PV_EBD,0,\" EBD\")\n",
    "    LeadLag_RT(MV, Kp, TLead, TLag, Ts, PV_EFD,0,'EFD')\n",
    "    \n",
    "plt.figure(figsize = (15,9))\n",
    "\n",
    "plt.subplot(2,1,1)\n",
    "plt.step(t,MV,'b-',label='MV',where='post')\n",
    "plt.ylabel('Value of MV')\n",
    "plt.title('MV')\n",
    "plt.legend(loc='best')\n",
    "plt.xlim([0, TSim])\n",
    "\n",
    "plt.subplot(2,1,2)\n",
    "plt.step(t,PV_EBD,'g-',label='Lead Lag response (EBD)',where='post')\n",
    "plt.step(t,PV_EFD,'lime',label='Lead Lag response (EFD)',where='post')\n",
    "plt.ylabel('Value of PV')\n",
    "plt.xlabel('Time [s]')\n",
    "plt.legend(loc='best')\n",
    "plt.xlim([0, TSim])"
   ]
  },
  {
   "cell_type": "markdown",
   "metadata": {},
   "source": [
    "PID implementation"
   ]
  },
  {
   "cell_type": "code",
   "execution_count": 14,
   "metadata": {},
   "outputs": [
    {
     "name": "stdout",
     "output_type": "stream",
     "text": [
      "Help on function PID_RT in module package_LAB:\n",
      "\n",
      "PID_RT(SP, PV, Man, MVMan, MVFF, Kc, Ti, Td, alpha, Ts, MVMin, MVMax, MV, MVP, MVI, MVD, E, ManFF=False, PVInit=0, method='EBD_EBD')\n",
      "    The function \"PID_RT\" needs to be included in a “for or while loop\"\n",
      "    :SP: (or SetPoint) vector\n",
      "    :PV: PV (or Process Value) vector\n",
      "    :Man: Man (or Manual controller mode) vector (True or False)\n",
      "    :MVMan: MVMan (or Manual value for MV) vector\n",
      "    :NVFF: NVFF (or Feedforward) vector\n",
      "    \n",
      "    :Kc: controller gain\n",
      "    :Ti: integral time constant [s]\n",
      "    :Td: derivative time constant [s]\n",
      "    :alpha: Tfd = alpha*Td where Tfd is the derivative filter time constant [s]\n",
      "    :Ts: sampling period [s]\n",
      "    \n",
      "    :MVMlin: minimum value for MV (used for saturation and anti wind-up)\n",
      "    :MVMax: maximum value for MV (used for saturation and anti wind-up)\n",
      "    \n",
      "    :Mv: MV (or Manipulated Value) vector\n",
      "    :MVP: MVP (or Propotional part of MV) vector\n",
      "    :MVI: MVE (or Integral part of MV) vector\n",
      "    :MVD: MVD (or Derivative part of MV) vector\n",
      "    :E: E (or control Error) vector\n",
      "    \n",
      "    :ManFF: Activated FF in manual mode (optional: default boolean value is False)\n",
      "    :PVInit: Initial value for PV (optional: default value is @): used if PID_RT is ran first in the squence and no value of PV is available yet.\n",
      "    \n",
      "    :method: discretisation method (optional: default value is \"EBD')\n",
      "        EBD-EBD: EBD for integral action and EBD for derivative action\n",
      "        EBD-TRAP: EBD for integral action and TRAP for derivative action\n",
      "        TRAP-EBD: TRAP for integral action and EBD for derivative action\n",
      "        TRAP-TRAP: TRAP for integral action and TRAP for derivative action\n",
      "    \n",
      "    \n",
      "    \n",
      "    The function “PID_RT” appends new values to the vectors \"MV\", \"MVP\", \"MVI\", and \"MVD\".\n",
      "    The appended values are based on the PID algorithm, the controller mode, and feedforward.\n",
      "    Note that saturation of \"MV\" within the limits [MVMin MVMax] is implemented with anti wind-up.\n",
      "\n"
     ]
    }
   ],
   "source": [
    "help(PID_RT)"
   ]
  },
  {
   "cell_type": "code",
   "execution_count": 15,
   "metadata": {},
   "outputs": [
    {
     "data": {
      "text/plain": [
       "(0, 80)"
      ]
     },
     "execution_count": 15,
     "metadata": {},
     "output_type": "execute_result"
    },
    {
     "data": {
      "image/png": "[encoded data removed]",
      "text/plain": [
       "<Figure size 1080x648 with 1 Axes>"
      ]
     },
     "metadata": {
      "needs_background": "light"
     },
     "output_type": "display_data"
    }
   ],
   "source": [
    "#first order with three methods\n",
    "\n",
    "TSim = 80\n",
    "Ts = 0.01\n",
    "N = int(TSim/Ts) + 1\n",
    "\n",
    "# Path for SP\n",
    "SPPath = {0: 50, 5:50 , 50: 50, 80: 50, TSim: 50}\n",
    "\n",
    "# Path for PV\n",
    "PVPath = {0: 50, 5: 40, 50: 40, 80: 40, TSim: 40} #PV we let it constant\n",
    "\n",
    "# Path for MAN\n",
    "ManPath = {0: False, 5:False, 50: True, 80: True, TSim: False}\n",
    "\n",
    "#path for MVMAN\n",
    "MVManPath = {0: 50, 5:50 , 50: 50, 80: 50, TSim: 50}\n",
    "\n",
    "\n",
    "# path for MVFF \n",
    "MVFFpath = {0: 0}\n",
    "\n",
    "\n",
    "t = []\n",
    "\n",
    "SP = []\n",
    "SPDelay = []\n",
    "\n",
    "PV = []\n",
    "PVDelay = []\n",
    "\n",
    "PV_EBD = []\n",
    "PV_EFD = []\n",
    "PV_TRAP = []\n",
    "\n",
    "MVP=[]\n",
    "MVI=[]\n",
    "MVD=[]\n",
    "MV=[]\n",
    "E=[]\n",
    "MVMan=[]\n",
    "Man =[]\n",
    "MVFF=[]\n",
    "\n",
    "# Parameters\n",
    "Kp = 1\n",
    "T = 5\n",
    "theta = 10\n",
    "Ti = 10\n",
    "Td = 1\n",
    "alpha = 0.4\n",
    "MVMin = 0\n",
    "MVMax = 100\n",
    "\n",
    "for i in range(0,N):\n",
    "    t.append(i*Ts)\n",
    "    SelectPath_RT(SPPath,t,SP)\n",
    "    SelectPath_RT(PVPath,t,PV)\n",
    "    SelectPath_RT(MVManPath,t,MVMan)\n",
    "    SelectPath_RT(ManPath,t,Man)\n",
    "    SelectPath_RT(MVFFpath,t,MVFF)\n",
    "    PID_RT(SP,PV,Man,MVMan,MVFF,2,Ti,Td,alpha,Ts,MVMin,MVMax,MV,MVP,MVI,MVD,E,False,0,'EBD_EBD')\n",
    "    \n",
    "    \n",
    "    \n",
    "plt.figure(figsize = (15,9))\n",
    "\n",
    "plt.subplot(2,1,1)\n",
    "plt.step(t,E,'b-',label='E',where='post')\n",
    "plt.step(t,MVP,'r-',label='MVP',where='post')\n",
    "plt.step(t,MVI,'y-',label='MVI',where='post')\n",
    "plt.step(t,MVD,'g-',label='MVD',where='post')\n",
    "plt.step(t,MV,'springgreen',linewidth=0.5,label='MV',where='post')\n",
    "plt.ylabel('Value of MV')\n",
    "plt.title('step response of PID controller ')\n",
    "plt.legend(loc='best')\n",
    "plt.xlim([0, TSim])\n"
   ]
  },
  {
   "cell_type": "code",
   "execution_count": null,
   "metadata": {},
   "outputs": [],
   "source": []
  },
  {
   "cell_type": "code",
   "execution_count": null,
   "metadata": {},
   "outputs": [],
   "source": []
  }
 ],
 "metadata": {
  "kernelspec": {
   "display_name": "Python 3",
   "language": "python",
   "name": "python3"
  },
  "language_info": {
   "codemirror_mode": {
    "name": "ipython",
    "version": 3
   },
   "file_extension": ".py",
   "mimetype": "text/x-python",
   "name": "python",
   "nbconvert_exporter": "python",
   "pygments_lexer": "ipython3",
   "version": "3.7.6"
  }
 },
 "nbformat": 4,
 "nbformat_minor": 4
}
