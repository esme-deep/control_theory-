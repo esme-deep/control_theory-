{
 "cells": [
  {
   "cell_type": "markdown",
   "metadata": {},
   "source": [
    "# student_package"
   ]
  },
  {
   "cell_type": "code",
   "execution_count": 82,
   "metadata": {},
   "outputs": [],
   "source": [
    "import numpy as np\n",
    "import matplotlib.pyplot as plt\n",
    "from scipy.optimize import minimize\n",
    "from matplotlib import colors as mcolors\n",
    "\n",
    "import package_DBR\n",
    "import student_package\n",
    "from package_DBR import myRound, SelectPath_RT, Delay_RT, FO_RT, FOPDT, SOPDT, FOPDT_cost, SOPDT_cost, Process, Bode\n",
    "from importlib import reload\n",
    "student_package = reload(student_package)\n",
    "from student_package import PID_RT, LeadLag_RT"
   ]
  },
  {
   "cell_type": "markdown",
   "metadata": {},
   "source": [
    " # PID impelementation"
   ]
  },
  {
   "cell_type": "code",
   "execution_count": 83,
   "metadata": {},
   "outputs": [
    {
     "name": "stdout",
     "output_type": "stream",
     "text": [
      "Help on function PID_RT in module student_package:\n",
      "\n",
      "PID_RT(SP, PV, Man, MVMan, MVFF, Kc, Ti, Td, alpha, Ts, MVMin, MVMax, MV, MVP, MVI, MVD, E, ManFF=False, PVInit=0, method='EBD_EBD')\n",
      "    The function \"PID_RT\" needs to be included in a “for or while loop\"\n",
      "    :SP: (or SetPoint) vector\n",
      "    :PV: PV (or Process Value) vector\n",
      "    :Man: Man (or Manual controller mode) vector (True or False)\n",
      "    :MVMan: MVMan (or Manual value for MV) vector\n",
      "    :NVFF: NVFF (or Feedforward) vector\n",
      "    \n",
      "    :Kc: controller gain\n",
      "    :Ti: integral time constant [s]\n",
      "    :Td: derivative time constant [s]\n",
      "    :alpha: Tfd = alpha*Td where Tfd is the derivative filter time constant [s]\n",
      "    :Ts: sampling period [s]\n",
      "    \n",
      "    :MVMlin: minimum value for MV (used for saturation and anti wind-up)\n",
      "    :MVMax: maximum value for MV (used for saturation and anti wind-up)\n",
      "    \n",
      "    :Mv: MV (or Manipulated Value) vector\n",
      "    :MVP: MVP (or Propotional part of MV) vector\n",
      "    :MVI: MVE (or Integral part of MV) vector\n",
      "    :MVD: MVD (or Derivative part of MV) vector\n",
      "    :E: E (or control Error) vector\n",
      "    \n",
      "    :ManFF: Activated FF in manual mode (optional: default boolean value is False)\n",
      "    :PVInit: Initial value for PV (optional: default value is @): used if PID_RT is ran first in the squence and no value of PV is available yet.\n",
      "    \n",
      "    :method: discretisation method (optional: default value is \"EBD')\n",
      "        EBD-EBD: EBD for integral action and EBD for derivative action\n",
      "        EBD-TRAP: EBD for integral action and TRAP for derivative action\n",
      "        TRAP-EBD: TRAP for integral action and EBD for derivative action\n",
      "        TRAP-TRAP: TRAP for integral action and TRAP for derivative action\n",
      "    \n",
      "    \n",
      "    \n",
      "    The function “PID_RT” appends new values to the vectors \"MV\", \"MVP\", \"MVI\", and \"MVD\".\n",
      "    The appended values are based on the PID algorithm, the controller mode, and feedforward.\n",
      "    Note that saturation of \"MV\" within the limits [MVMin MVMax] is implemented with anti wind-up.\n",
      "\n"
     ]
    }
   ],
   "source": [
    "help(PID_RT)"
   ]
  },
  {
   "cell_type": "code",
   "execution_count": 86,
   "metadata": {},
   "outputs": [
    {
     "ename": "AttributeError",
     "evalue": "'bool' object has no attribute 'append'",
     "output_type": "error",
     "traceback": [
      "\u001b[1;31m---------------------------------------------------------------------------\u001b[0m",
      "\u001b[1;31mAttributeError\u001b[0m                            Traceback (most recent call last)",
      "\u001b[1;32m<ipython-input-86-611e0ce26fb1>\u001b[0m in \u001b[0;36m<module>\u001b[1;34m\u001b[0m\n\u001b[0;32m     48\u001b[0m     \u001b[0mSelectPath_RT\u001b[0m\u001b[1;33m(\u001b[0m\u001b[0mSPPath\u001b[0m\u001b[1;33m,\u001b[0m\u001b[0mt\u001b[0m\u001b[1;33m,\u001b[0m\u001b[0mSP\u001b[0m\u001b[1;33m)\u001b[0m\u001b[1;33m\u001b[0m\u001b[1;33m\u001b[0m\u001b[0m\n\u001b[0;32m     49\u001b[0m     \u001b[0mSelectPath_RT\u001b[0m\u001b[1;33m(\u001b[0m\u001b[0mPVPath\u001b[0m\u001b[1;33m,\u001b[0m\u001b[0mt\u001b[0m\u001b[1;33m,\u001b[0m\u001b[0mPV\u001b[0m\u001b[1;33m)\u001b[0m\u001b[1;33m\u001b[0m\u001b[1;33m\u001b[0m\u001b[0m\n\u001b[1;32m---> 50\u001b[1;33m     \u001b[0mSelectPath_RT\u001b[0m\u001b[1;33m(\u001b[0m\u001b[0mManPath\u001b[0m\u001b[1;33m,\u001b[0m\u001b[0mt\u001b[0m\u001b[1;33m,\u001b[0m\u001b[0mMan\u001b[0m\u001b[1;33m)\u001b[0m\u001b[1;33m\u001b[0m\u001b[1;33m\u001b[0m\u001b[0m\n\u001b[0m\u001b[0;32m     51\u001b[0m     \u001b[0mPID_RT\u001b[0m\u001b[1;33m(\u001b[0m\u001b[0mSP\u001b[0m\u001b[1;33m,\u001b[0m\u001b[0mPV\u001b[0m\u001b[1;33m,\u001b[0m\u001b[0mMan\u001b[0m\u001b[1;33m,\u001b[0m\u001b[0mMVMan\u001b[0m\u001b[1;33m,\u001b[0m\u001b[1;36m0\u001b[0m\u001b[1;33m,\u001b[0m\u001b[1;36m2\u001b[0m\u001b[1;33m,\u001b[0m\u001b[0mTi\u001b[0m\u001b[1;33m,\u001b[0m\u001b[0mTd\u001b[0m\u001b[1;33m,\u001b[0m\u001b[0malpha\u001b[0m\u001b[1;33m,\u001b[0m\u001b[0mTs\u001b[0m\u001b[1;33m,\u001b[0m\u001b[0mMVMin\u001b[0m\u001b[1;33m,\u001b[0m\u001b[0mMVMax\u001b[0m\u001b[1;33m,\u001b[0m\u001b[0mMV\u001b[0m\u001b[1;33m,\u001b[0m\u001b[0mMVP\u001b[0m\u001b[1;33m,\u001b[0m\u001b[0mMVI\u001b[0m\u001b[1;33m,\u001b[0m\u001b[0mMVD\u001b[0m\u001b[1;33m,\u001b[0m\u001b[0mE\u001b[0m\u001b[1;33m,\u001b[0m\u001b[1;32mFalse\u001b[0m\u001b[1;33m,\u001b[0m\u001b[1;36m0\u001b[0m\u001b[1;33m,\u001b[0m\u001b[1;34m'EBD_EBD'\u001b[0m\u001b[1;33m)\u001b[0m\u001b[1;33m\u001b[0m\u001b[1;33m\u001b[0m\u001b[0m\n\u001b[0;32m     52\u001b[0m \u001b[1;33m\u001b[0m\u001b[0m\n",
      "\u001b[1;32m~\\Desktop\\control_theory\\control_theory-\\package_DBR.py\u001b[0m in \u001b[0;36mSelectPath_RT\u001b[1;34m(path, time, signal)\u001b[0m\n\u001b[0;32m     37\u001b[0m \u001b[1;33m\u001b[0m\u001b[0m\n\u001b[0;32m     38\u001b[0m     \u001b[0mvalue\u001b[0m \u001b[1;33m=\u001b[0m \u001b[0mpath\u001b[0m\u001b[1;33m[\u001b[0m\u001b[0mtimeKeyPrevious\u001b[0m\u001b[1;33m]\u001b[0m\u001b[1;33m\u001b[0m\u001b[1;33m\u001b[0m\u001b[0m\n\u001b[1;32m---> 39\u001b[1;33m     \u001b[0msignal\u001b[0m\u001b[1;33m.\u001b[0m\u001b[0mappend\u001b[0m\u001b[1;33m(\u001b[0m\u001b[0mvalue\u001b[0m\u001b[1;33m)\u001b[0m\u001b[1;33m\u001b[0m\u001b[1;33m\u001b[0m\u001b[0m\n\u001b[0m\u001b[0;32m     40\u001b[0m \u001b[1;33m\u001b[0m\u001b[0m\n\u001b[0;32m     41\u001b[0m \u001b[1;31m#-----------------------------------\u001b[0m\u001b[1;33m\u001b[0m\u001b[1;33m\u001b[0m\u001b[1;33m\u001b[0m\u001b[0m\n",
      "\u001b[1;31mAttributeError\u001b[0m: 'bool' object has no attribute 'append'"
     ]
    }
   ],
   "source": [
    "#first order with three methods\n",
    "\n",
    "TSim = 20\n",
    "Ts = 0.01\n",
    "N = int(TSim/Ts) + 1\n",
    "\n",
    "# Path for SP\n",
    "SPPath = {0: 50, 5:50 , 50: 50, 80: 50, TSim: 50}\n",
    "\n",
    "# Path for PV\n",
    "PVPath = {0: 50, 5: 40, 50: 40, 80: 40, TSim: 40} #PV we let it constant\n",
    "\n",
    "# Path for MAN\n",
    "ManPath = {0: True, 5:True , 50: False, 80: True, TSim: True}\n",
    "\n",
    "t = []\n",
    "\n",
    "SP = []\n",
    "SPDelay = []\n",
    "\n",
    "PV = []\n",
    "PVDelay = []\n",
    "\n",
    "PV_EBD = []\n",
    "PV_EFD = []\n",
    "PV_TRAP = []\n",
    "\n",
    "MVP=[]\n",
    "MVI=[]\n",
    "MVD=[]\n",
    "MV=[]\n",
    "E=[]\n",
    "MVMan=[]\n",
    "Man =[]\n",
    "\n",
    "# Parameters\n",
    "Kp = 1\n",
    "T = 5\n",
    "theta = 10\n",
    "Ti = 10\n",
    "Td = 1\n",
    "alpha = 0.4\n",
    "MVMin = 0\n",
    "MVMax = 50\n",
    "\n",
    "for i in range(0,N):\n",
    "    t.append(i*Ts)\n",
    "    SelectPath_RT(SPPath,t,SP)\n",
    "    SelectPath_RT(PVPath,t,PV)\n",
    "    SelectPath_RT(ManPath,t,Man)\n",
    "    PID_RT(SP,PV,Man,MVMan,0,2,Ti,Td,alpha,Ts,MVMin,MVMax,MV,MVP,MVI,MVD,E,False,0,'EBD_EBD')\n",
    "    \n",
    "    \n",
    "    \n",
    "plt.figure(figsize = (15,9))\n",
    "\n",
    "plt.subplot(2,1,1)\n",
    "plt.step(t,E,'b-',label='E',where='post')\n",
    "plt.step(t,MVP,'r-',label='MVP',where='post')\n",
    "plt.step(t,MVI,'y-',label='MVI',where='post')\n",
    "plt.step(t,MVD,'g-',label='MVD',where='post')\n",
    "plt.step(t,MV,'springgreen',linewidth=0.5,label='MV',where='post')\n",
    "plt.ylabel('Value of MV')\n",
    "plt.title('step response of PID controller ')\n",
    "plt.legend(loc='best')\n",
    "plt.xlim([0, TSim])\n",
    "\n"
   ]
  },
  {
   "cell_type": "code",
   "execution_count": 81,
   "metadata": {},
   "outputs": [
    {
     "name": "stdout",
     "output_type": "stream",
     "text": [
      "Help on function LeadLag_RT in module student_package:\n",
      "\n",
      "LeadLag_RT(MV, Kp, Tlead, Tlag, Ts, PV, PVInit=0, method=' EBD')\n",
      "    Help on function LeadLag_RT in module package_DBR Advanced:\n",
      "    \n",
      "    LeadLag RT(MV, Kp, Tlead, Tlag, Ts, PV, PVInit=0, method=\" EBD\")\n",
      "    \n",
      "    The function “LeadLag RT” needs to be included in a ”for or while loop”.\n",
      "    \n",
      "    :MV: input vector\n",
      "    :Kp: process gain\n",
      "    :Tlead: lead time constant [s]\n",
      "    :Tlag: lag time constant [s]\n",
      "    :Ts:sampling period [s]\n",
      "    :Pv: output vector\n",
      "    :PVInit: (optional: default value is 8)\n",
      "    :method: discretisation method (optional: default value is \"EBD')\n",
      "            EBD: Euler Backward difference\n",
      "            EFD: Euler Forward difference\n",
      "            TRAP: Trapezoidal method\n",
      "    \n",
      "    The function appends a value to the output vector \"Pv\".\n",
      "    The appended value is obtained from a recurrent equation that depends on the discretisation method.\n",
      "\n"
     ]
    }
   ],
   "source": [
    "help(LeadLag_RT)"
   ]
  },
  {
   "cell_type": "code",
   "execution_count": 71,
   "metadata": {},
   "outputs": [
    {
     "data": {
      "text/plain": [
       "[<matplotlib.lines.Line2D at 0x19b8d5e2fc8>]"
      ]
     },
     "execution_count": 71,
     "metadata": {},
     "output_type": "execute_result"
    },
    {
     "data": {
      "image/png": "[encoded data removed]",
      "text/plain": [
       "<Figure size 1080x648 with 1 Axes>"
      ]
     },
     "metadata": {
      "needs_background": "light"
     },
     "output_type": "display_data"
    }
   ],
   "source": [
    "#first order with three methods\n",
    "\n",
    "TSim = 100\n",
    "Ts = 0.01\n",
    "N = int(TSim/Ts) + 1\n",
    "\n",
    "# Path for MV\n",
    "#MVPath = {0: 0, 5: 1, 50: 2, 80: 3, TSim: 3}\n",
    "\n",
    "t = []\n",
    "MV = []\n",
    "PV= []\n",
    "\n",
    "\n",
    "# Parameters\n",
    "Kp = 1\n",
    "Tlead = 9\n",
    "Tlag = 3\n",
    "theta = 10\n",
    "\n",
    "# Path for MV\n",
    "MVPath = {0: 0, 2*Tlag: 1, 3*Tlag: 1, 4*Tlag: 1, TSim: 1}\n",
    "\n",
    "for i in range(0,N):\n",
    "    t.append(i*Ts)\n",
    "    SelectPath_RT(MVPath,t,MV)\n",
    "    LeadLag_RT(MV, Kp, Tlead, Tlag, Ts, PV, PVInit=0, method=\" EBD\")\n",
    "    \n",
    "plt.figure(figsize = (15,9))\n",
    "\n",
    "plt.subplot(2,1,1)\n",
    "plt.step(t,MV,'b-',label='MV',where='post')\n",
    "plt.step(t,PV,'y-',label='PV',where='post')"
   ]
  },
  {
   "cell_type": "code",
   "execution_count": null,
   "metadata": {},
   "outputs": [],
   "source": []
  }
 ],
 "metadata": {
  "kernelspec": {
   "display_name": "Python 3",
   "language": "python",
   "name": "python3"
  },
  "language_info": {
   "codemirror_mode": {
    "name": "ipython",
    "version": 3
   },
   "file_extension": ".py",
   "mimetype": "text/x-python",
   "name": "python",
   "nbconvert_exporter": "python",
   "pygments_lexer": "ipython3",
   "version": "3.7.6"
  }
 },
 "nbformat": 4,
 "nbformat_minor": 5
}
