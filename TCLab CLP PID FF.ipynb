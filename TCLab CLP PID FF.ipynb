{
 "cells": [
  {
   "cell_type": "code",
   "execution_count": 1,
   "metadata": {},
   "outputs": [],
   "source": [
    "import numpy as np\n",
    "import matplotlib.pyplot as plt\n",
    "from scipy.optimize import minimize\n",
    "from matplotlib import colors as mcolors\n",
    "from IPython.display import display, clear_output\n",
    "\n",
    "import package_DBR\n",
    "import package_LAB\n",
    "\n",
    "from datetime import datetime\n",
    "import tclab\n",
    "import time\n",
    "\n",
    "import os\n",
    "\n",
    "\n",
    "from package_DBR import myRound, SelectPath_RT, Delay_RT, FO_RT, FOPDT, SOPDT, FOPDT_cost, SOPDT_cost, Process, Bode\n",
    "from importlib import reload\n",
    "package_LAB = reload(package_LAB)\n",
    "from package_LAB import PID_RT, LeadLag_RT,IMCTuning,Scenario_Box,Show_scenario"
   ]
  },
  {
   "cell_type": "markdown",
   "metadata": {},
   "source": [
    " \n",
    " # Process parameters \n"
   ]
  },
  {
   "cell_type": "code",
   "execution_count": 2,
   "metadata": {},
   "outputs": [],
   "source": [
    "#SOPDT  for PV\n",
    "Kp = 0.3870268878656955\n",
    "T1p = 134.48964045587033\n",
    "T2p = 0.18834872361511124\n",
    "thetap = 4.428370012941102\n",
    "\n",
    "#SOPDT  for DV change it later!!\n",
    "Kd =  0.281747169668043\n",
    "T1d = 67.89840042973015\n",
    "T2d = 69.30791379520285\n",
    "thetad = 7.00000023376638\n"
   ]
  },
  {
   "cell_type": "code",
   "execution_count": 3,
   "metadata": {},
   "outputs": [
    {
     "name": "stdout",
     "output_type": "stream",
     "text": [
      "5.976566556991808 134.67798917948545 0.1880853157494045\n"
     ]
    }
   ],
   "source": [
    "gamma = 0.4 \n",
    "Kc,Ti,Td = IMCTuning(Kp,T1p,T2p,thetap,gamma,'SOPDT')\n",
    "print(Kc,Ti,Td)"
   ]
  },
  {
   "cell_type": "code",
   "execution_count": 4,
   "metadata": {},
   "outputs": [],
   "source": [
    "TSim = 2000\n",
    "Ts = 1\n",
    "N = int(TSim/Ts) + 1\n"
   ]
  },
  {
   "cell_type": "markdown",
   "metadata": {},
   "source": [
    "# CLOSED LOOP with PID and FF\n"
   ]
  },
  {
   "cell_type": "code",
   "execution_count": 5,
   "metadata": {},
   "outputs": [],
   "source": [
    "#working point \n",
    "MV0= 50\n",
    "DV0 = 50\n",
    "PV0 = 75\n",
    "\n",
    "MVPath = {0: 1, 1230: 0, TSim: 1}"
   ]
  },
  {
   "cell_type": "markdown",
   "metadata": {},
   "source": [
    "## SCENAREOS"
   ]
  },
  {
   "cell_type": "code",
   "execution_count": 6,
   "metadata": {},
   "outputs": [
    {
     "name": "stdout",
     "output_type": "stream",
     "text": [
      "Help on function Scenario_Box in module package_LAB:\n",
      "\n",
      "Scenario_Box()\n",
      "    This function will help us make the choice of the scenareo please uncheck a simulation before checking another\n",
      "\n"
     ]
    }
   ],
   "source": [
    "help(Scenario_Box)"
   ]
  },
  {
   "cell_type": "code",
   "execution_count": 7,
   "metadata": {},
   "outputs": [
    {
     "data": {
      "application/vnd.jupyter.widget-view+json": {
       "model_id": "931fa01ade2e46cba9362da4ed0f5499",
       "version_major": 2,
       "version_minor": 0
      },
      "text/plain": [
       "Checkbox(value=False, description='OPLnoFF')"
      ]
     },
     "metadata": {},
     "output_type": "display_data"
    },
    {
     "data": {
      "application/vnd.jupyter.widget-view+json": {
       "model_id": "83802ba73efb44e0a4d4f5fe0b97605e",
       "version_major": 2,
       "version_minor": 0
      },
      "text/plain": [
       "Checkbox(value=False, description='OPLFF')"
      ]
     },
     "metadata": {},
     "output_type": "display_data"
    },
    {
     "data": {
      "application/vnd.jupyter.widget-view+json": {
       "model_id": "d50ab1c53374482f93eaa022412d9dca",
       "version_major": 2,
       "version_minor": 0
      },
      "text/plain": [
       "Checkbox(value=False, description='CLPFF')"
      ]
     },
     "metadata": {},
     "output_type": "display_data"
    },
    {
     "data": {
      "application/vnd.jupyter.widget-view+json": {
       "model_id": "edcd0f0d55004f91952b2e4b12eb1bc8",
       "version_major": 2,
       "version_minor": 0
      },
      "text/plain": [
       "Checkbox(value=False, description='CLPnoFF')"
      ]
     },
     "metadata": {},
     "output_type": "display_data"
    }
   ],
   "source": [
    "Scenario_Box()"
   ]
  },
  {
   "cell_type": "code",
   "execution_count": 8,
   "metadata": {},
   "outputs": [
    {
     "name": "stdout",
     "output_type": "stream",
     "text": [
      "Help on function Show_scenario in module package_LAB:\n",
      "\n",
      "Show_scenario()\n",
      "    This function is MANDATORY to apply the scenario choice.. it also make us sure of the choice made\n",
      "\n"
     ]
    }
   ],
   "source": [
    "help(Show_scenario)"
   ]
  },
  {
   "cell_type": "code",
   "execution_count": 19,
   "metadata": {},
   "outputs": [
    {
     "name": "stdout",
     "output_type": "stream",
     "text": [
      "You have chosen an closed loop with  feedforward\n"
     ]
    }
   ],
   "source": [
    "scenario = Show_scenario()"
   ]
  },
  {
   "cell_type": "code",
   "execution_count": 20,
   "metadata": {},
   "outputs": [
    {
     "name": "stdout",
     "output_type": "stream",
     "text": [
      "CLPFF\n",
      "3\n"
     ]
    }
   ],
   "source": [
    "print(scenario)\n",
    "\n",
    "if scenario==\"OPLnoFF\":\n",
    "    ManPath = {0: True,TSim: True} \n",
    "    MVManPath = {0: MV0, TSim: MV0} \n",
    "    SPPath = {0: PV0, 1000: PV0-10, TSim: PV0-10} \n",
    "    DVPath = {0: DV0-20, 1500: DV0, TSim: DV0}\n",
    "    ManFF = False\n",
    "    ActivateFF= False\n",
    "    print(1)\n",
    "    \n",
    "   \n",
    "    \n",
    "elif scenario =='OPLFF':\n",
    "    ManPath = {0: True,TSim: True}\n",
    "    MVManPath = {0: MV0, TSim: MV0} \n",
    "    SPPath = {0: PV0, 1200: PV0-10, TSim: PV0-10} \n",
    "    DVPath = {0: DV0-20, 1700: DV0, TSim: DV0}\n",
    "    ManFF = True\n",
    "    ActivateFF= True\n",
    "    print(2)\n",
    "\n",
    "elif scenario=='CLPFF':\n",
    "    ManPath = {0: False, 100: False, TSim: False}\n",
    "    MVManPath = {0: 100, TSim: MV0}\n",
    "    SPPath = {0: PV0, 1000: PV0-10, TSim: PV0-10} \n",
    "    DVPath = {0: DV0-20, 1500: DV0, TSim: DV0}\n",
    "    ManFF = True\n",
    "    ActivateFF= True\n",
    "    print(3)\n",
    "   \n",
    "    \n",
    "else:\n",
    "    ManPath = {0: False, 1000 :False, TSim: False}\n",
    "    MVManPath = {0: MV0, TSim: MV0} \n",
    "    SPPath = {0: PV0, 1000: PV0-10, TSim: PV0-10} \n",
    "    DVPath = {0: DV0-20, 1500: DV0, TSim: DV0}\n",
    "    ManFF = False\n",
    "    ActivateFF = False\n",
    "    print(4)\n",
    "  \n",
    "\n",
    "\n"
   ]
  },
  {
   "cell_type": "code",
   "execution_count": 21,
   "metadata": {},
   "outputs": [],
   "source": [
    "t=[]\n",
    "SP=[]\n",
    "PV=[]\n",
    "Man=[]\n",
    "MVMan=[]\n",
    "MVFF=[]\n",
    "MV=[]\n",
    "DV=[]\n",
    "MVP=[]\n",
    "MVI=[]\n",
    "MVD=[]\n",
    "E=[]\n",
    "\n",
    "alpha = 0.5\n",
    "MVMin = 0\n",
    "MVMax = 100\n",
    "\n",
    "MVFFDelay=[]\n",
    "MVFFLL1=[]\n",
    "\n",
    "MVDelayp=[]\n",
    "PV1p=[]\n",
    "PV2p=[]\n",
    "\n",
    "MVDelayd=[]\n",
    "PV1d=[]\n",
    "PV2d=[]"
   ]
  },
  {
   "cell_type": "code",
   "execution_count": 22,
   "metadata": {},
   "outputs": [],
   "source": [
    "def EXPERIMENT():\n",
    "\n",
    "    global t,SP,MV,Man,ManFF,MVMan,MVFF,MVP,MVI,MVD,DV,PV,E,MVFFDelay,MVFFLL1,MVDelayp,PV1p,PV2p,MVDelayd,PV1d,PV2d\n",
    "\n",
    "    for i in range(0,N):\n",
    "        t.append(i*Ts)\n",
    "\n",
    "        PV.append(lab.T1)\n",
    "        SelectPath_RT(SPPath,t,SP)\n",
    "        SelectPath_RT(DVPath,t,DV)\n",
    "        Delay_RT(DV-DV0*np.ones_like(DV),np.max([thetad-thetap,0]),Ts,MVFFDelay)\n",
    "        LeadLag_RT(MVFFDelay,-Kd/Kp,T1p,T1d,Ts,MVFFLL1)\n",
    "        if ActivateFF :\n",
    "            LeadLag_RT(MVFFLL1,1,T2p,T2d,Ts,MVFF)\n",
    "        else :\n",
    "            LeadLag_RT(MVFFLL1,0,T2p,T2d,Ts,MVFF)\n",
    "\n",
    "        SelectPath_RT(ManPath,t,Man)\n",
    "        SelectPath_RT(MVManPath,t,MVMan)\n",
    "\n",
    "        PID_RT(SP,PV,Man,MVMan,MVFF,2,Ti,Td,alpha,Ts,MVMin,MVMax,MV,MVP,MVI,MVD,E,ManFF,PV0,'EBD_EBD')\n",
    "\n",
    "        lab.Q1(MV[-1])\n",
    "        lab.Q2(DV[-1])\n",
    "        #MV.append(MVValue)\n",
    "        #DV.append(DVValue) \n",
    "        \n",
    "        i = i + 1\n",
    "        time.sleep(Ts)\n",
    "        \n",
    "        l1.set_data(t,MV)\n",
    "        l2.set_data(t,PV)\n",
    "        l3.set_data(t,DV)\n",
    "\n",
    "        clear_output(wait=True)\n",
    "\n",
    "        # Remove if increasing x-axis length is not desired\n",
    "        ax1.set_xlim(0, t[-1]+1)\n",
    "        ax2.set_xlim(0, t[-1]+1)\n",
    "        ax3.set_xlim(0, t[-1]+1)\n",
    "\n",
    "        if i > 1:\n",
    "            ax1.set_ylim(myRound(np.min(MV),5)-5, myRound(np.max(MV),5)+5)\n",
    "            ax2.set_ylim(myRound(np.min(PV),5)-5, myRound(np.max(PV),5)+5)\n",
    "            ax3.set_ylim(myRound(np.min(DV),5)-5, myRound(np.max(DV),5)+5)        \n",
    "\n",
    "        display(fig)\n",
    "\n",
    "\n",
    "    lab.close()\n",
    "\n",
    "    # Save data into a file\n",
    "    now = datetime.now()\n",
    "    date_time = now.strftime(\"%Y-%m-%d-%Hh%M\")\n",
    "    t = np.array(t)\n",
    "    MV = np.array(MV)\n",
    "    PV = np.array(PV)\n",
    "    DV = np.array(DV)\n",
    "    my_data = np.vstack((t.T,MV.T,PV.T,DV.T))\n",
    "    my_data = my_data.T\n",
    "    nameFile = 'Data/Open_loop_experiment_on_' + scenario + '_' + date_time + '.txt'\n",
    "    if not os.path.exists('Data'):\n",
    "        os.makedirs('Data')\n",
    "    np.savetxt(nameFile,my_data,delimiter=',',header='t,MV,PV,DV',comments='')"
   ]
  },
  {
   "cell_type": "code",
   "execution_count": null,
   "metadata": {
    "scrolled": false
   },
   "outputs": [
    {
     "data": {
      "image/png": "[encoded data removed]",
      "text/plain": [
       "<Figure size 1584x864 with 3 Axes>"
      ]
     },
     "metadata": {},
     "output_type": "display_data"
    }
   ],
   "source": [
    "fig, (ax1, ax2, ax3) = plt.subplots(3,1)\n",
    "fig.set_figheight(12)\n",
    "fig.set_figwidth(22)\n",
    "\n",
    "l1, = ax1.step([0,1],[0,100],'b-',linewidth=2,label='MV',where='post')\n",
    "ax1.set_ylabel('Value of MV [%]')\n",
    "ax1.set_title('Closed-loop experiment on TCLab')\n",
    "ax1.legend(loc='best')\n",
    "\n",
    "l2, = ax2.step([0,1],[0,100],'g-',linewidth=2,label='PV',where='post')\n",
    "ax2.set_ylabel('Value of PV [°C]')\n",
    "ax2.legend(loc='best')\n",
    "\n",
    "l3, = ax3.step([0,1],[0,100],'r-',linewidth=2,label='DV',where='post')\n",
    "ax3.set_xlabel('Time [s]')\n",
    "ax3.set_ylabel('Value of DV [%]')\n",
    "ax3.legend(loc='best')\n",
    "lab = tclab.TCLab()\n",
    "\n",
    "t = []\n",
    "i = 0\n",
    "MV = []\n",
    "DV = []\n",
    "PV = []\n",
    "\n",
    "EXPERIMENT()"
   ]
  },
  {
   "cell_type": "code",
   "execution_count": 18,
   "metadata": {},
   "outputs": [],
   "source": [
    "nameFile = \"Open_loop_experiment_on_CLPnoFF_2022-05-18-13h20\"\n",
    "fig.savefig(\"Plots/\"+nameFile + '.png',transparent=True)\n",
    "fig.savefig(\"Plots/\"+nameFile + '.pdf',transparent=True)  \n"
   ]
  },
  {
   "cell_type": "code",
   "execution_count": null,
   "metadata": {},
   "outputs": [],
   "source": []
  },
  {
   "cell_type": "code",
   "execution_count": null,
   "metadata": {},
   "outputs": [],
   "source": []
  },
  {
   "cell_type": "code",
   "execution_count": null,
   "metadata": {},
   "outputs": [],
   "source": []
  }
 ],
 "metadata": {
  "kernelspec": {
   "display_name": "Python 3",
   "language": "python",
   "name": "python3"
  },
  "language_info": {
   "codemirror_mode": {
    "name": "ipython",
    "version": 3
   },
   "file_extension": ".py",
   "mimetype": "text/x-python",
   "name": "python",
   "nbconvert_exporter": "python",
   "pygments_lexer": "ipython3",
   "version": "3.7.6"
  }
 },
 "nbformat": 4,
 "nbformat_minor": 4
}
